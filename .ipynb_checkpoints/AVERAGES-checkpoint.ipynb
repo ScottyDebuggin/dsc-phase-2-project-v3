{
 "cells": [
  {
   "cell_type": "code",
   "execution_count": 1,
   "metadata": {},
   "outputs": [],
   "source": [
    "import itertools\n",
    "import numpy as np\n",
    "import pandas as pd \n",
    "from numbers import Number\n",
    "import sqlite3\n",
    "from scipy import stats\n",
    "from scipy.stats import pearsonr\n",
    "from scipy.stats import linregress\n",
    "import matplotlib.pyplot as plt\n",
    "import seaborn as sns\n",
    "import statsmodels.api as sm\n",
    "import warnings\n",
    "warnings.filterwarnings('ignore')\n",
    "import gzip\n",
    "import pickle\n",
    "import pandasql\n",
    "import decimal\n",
    "import string"
   ]
  },
  {
   "cell_type": "code",
   "execution_count": 7,
   "metadata": {},
   "outputs": [
    {
     "data": {
      "text/plain": [
       "[]"
      ]
     },
     "execution_count": 7,
     "metadata": {},
     "output_type": "execute_result"
    }
   ],
   "source": [
    "path = 'im.db'\n",
    "conn = sqlite3.connect(path)\n",
    "\n",
    "cur = conn.cursor()\n",
    "cur.execute(\"\"\"SELECT name FROM sqlite_master WHERE type = 'table';\"\"\")\n",
    "\n",
    "table_names = cur.fetchall() # Fetch the result and store it in table_names\n",
    "table_names"
   ]
  },
  {
   "cell_type": "code",
   "execution_count": 4,
   "metadata": {},
   "outputs": [
    {
     "name": "stdout",
     "output_type": "stream",
     "text": [
      "/c/Users/Scott Libby/Desktop/code/Phase2_SQL/Project_REPO/dsc-phase-2-project-v3\n"
     ]
    }
   ],
   "source": [
    "!pwd"
   ]
  },
  {
   "cell_type": "code",
   "execution_count": 3,
   "metadata": {},
   "outputs": [
    {
     "ename": "OperationalError",
     "evalue": "no such table: movie_basics",
     "output_type": "error",
     "traceback": [
      "\u001b[1;31m---------------------------------------------------------------------------\u001b[0m",
      "\u001b[1;31mOperationalError\u001b[0m                          Traceback (most recent call last)",
      "\u001b[1;32m<ipython-input-3-3761250ee7bb>\u001b[0m in \u001b[0;36m<module>\u001b[1;34m\u001b[0m\n\u001b[1;32m----> 1\u001b[1;33m \u001b[0mcur\u001b[0m\u001b[1;33m.\u001b[0m\u001b[0mexecute\u001b[0m\u001b[1;33m(\u001b[0m\u001b[1;34m\"\"\"SELECT * FROM movie_basics;\"\"\"\u001b[0m\u001b[1;33m)\u001b[0m\u001b[1;33m\u001b[0m\u001b[1;33m\u001b[0m\u001b[0m\n\u001b[0m\u001b[0;32m      2\u001b[0m df = pd.read_sql(\n\u001b[0;32m      3\u001b[0m     \"\"\"\n\u001b[0;32m      4\u001b[0m     \u001b[0mSELECT\u001b[0m \u001b[1;33m*\u001b[0m\u001b[1;33m\u001b[0m\u001b[1;33m\u001b[0m\u001b[0m\n\u001b[0;32m      5\u001b[0m     \u001b[0mFROM\u001b[0m \u001b[0msqlite_master\u001b[0m\u001b[1;33m\u001b[0m\u001b[1;33m\u001b[0m\u001b[0m\n",
      "\u001b[1;31mOperationalError\u001b[0m: no such table: movie_basics"
     ]
    }
   ],
   "source": [
    "cur.execute(\"\"\"SELECT * FROM movie_basics;\"\"\")\n",
    "df = pd.read_sql(\n",
    "    \"\"\"\n",
    "    SELECT *\n",
    "    FROM sqlite_master\n",
    "    \"\"\", conn)\n",
    "df[df['type'] == 'table']"
   ]
  },
  {
   "cell_type": "code",
   "execution_count": null,
   "metadata": {},
   "outputs": [],
   "source": [
    "movie_basics=pd.read_sql(\"\"\"SELECT * FROM movie_basics ;\"\"\", conn)\n",
    "movie_basics = movie_basics.rename(columns={'primary_title': 'movie'})\n",
    "movie_basics = movie_basics.dropna(subset=['genres'])\n",
    "movie_basics"
   ]
  },
  {
   "cell_type": "code",
   "execution_count": null,
   "metadata": {},
   "outputs": [],
   "source": [
    "Horror_df = movie_basics[movie_basics['genres'].str.contains('Horror', case=False)]\n",
    "Horror_df = Horror_df.loc[:, ['movie', 'genres']]\n",
    "def keep_only_GENRE(genres):\n",
    "    genre_list = genres.split(',')\n",
    "    if 'Horror' in genre_list:\n",
    "        return 'Horror'\n",
    "    else:\n",
    "        return ','.join(genre_list)\n",
    "\n",
    "Horror_df['genres'] = Horror_df['genres'].apply(keep_only_GENRE)\n",
    "Horror_df['genres'] = Horror_df['genres'].str.lower()\n",
    "Horror_df['movie'] = Horror_df['movie'].str.lower()\n",
    "Horror_df"
   ]
  },
  {
   "cell_type": "code",
   "execution_count": null,
   "metadata": {},
   "outputs": [],
   "source": [
    "Drama_df = movie_basics[movie_basics['genres'].str.contains('Drama', case=False)]\n",
    "Drama_df = Drama_df.loc[:, ['movie', 'genres']]\n",
    "def keep_only_GENRE(genres):\n",
    "    genre_list = genres.split(',')\n",
    "    if 'Drama' in genre_list:\n",
    "        return 'Drama'\n",
    "    else:\n",
    "        return ','.join(genre_list)\n",
    "\n",
    "Drama_df['genres'] = Drama_df['genres'].apply(keep_only_GENRE)\n",
    "Drama_df['genres'] = Drama_df['genres'].str.lower()\n",
    "Drama_df['movie'] = Drama_df['movie'].str.lower()\n",
    "Drama_df"
   ]
  },
  {
   "cell_type": "code",
   "execution_count": null,
   "metadata": {},
   "outputs": [],
   "source": [
    "Documentary_df = movie_basics[movie_basics['genres'].str.contains('Documentary', case=False)]\n",
    "Documentary_df = Documentary_df.loc[:, ['movie', 'genres']]\n",
    "def keep_only_drama(genres):\n",
    "    genre_list = genres.split(',')\n",
    "    if 'Documentary' in genre_list:\n",
    "        return 'Documentary'\n",
    "    else:\n",
    "        return ','.join(genre_list)\n",
    "\n",
    "Documentary_df['genres'] = Documentary_df['genres'].apply(keep_only_drama)\n",
    "Documentary_df['genres'] = Documentary_df['genres'].str.lower()\n",
    "Documentary_df['movie'] = Documentary_df['movie'].str.lower()\n",
    "Documentary_df"
   ]
  },
  {
   "cell_type": "code",
   "execution_count": null,
   "metadata": {},
   "outputs": [],
   "source": [
    "directors=pd.read_sql(\n",
    "\"\"\"\n",
    "SELECT *\n",
    "FROM directors\n",
    ";\n",
    "\"\"\", conn)\n",
    "directors"
   ]
  },
  {
   "cell_type": "code",
   "execution_count": null,
   "metadata": {},
   "outputs": [],
   "source": [
    "known_for=pd.read_sql(\n",
    "\"\"\"\n",
    "SELECT *\n",
    "FROM known_for\n",
    ";\n",
    "\"\"\", conn)\n",
    "known_for"
   ]
  },
  {
   "cell_type": "code",
   "execution_count": null,
   "metadata": {},
   "outputs": [],
   "source": [
    "movie_akas=pd.read_sql(\n",
    "\"\"\"\n",
    "SELECT *\n",
    "FROM movie_akas\n",
    ";\n",
    "\"\"\", conn)\n",
    "movie_akas = movie_akas.rename(columns={'title': 'movie'})\n",
    "movie_akas"
   ]
  },
  {
   "cell_type": "code",
   "execution_count": null,
   "metadata": {},
   "outputs": [],
   "source": [
    "movie_ratings=pd.read_sql(\n",
    "\"\"\"\n",
    "SELECT *\n",
    "FROM movie_ratings\n",
    ";\n",
    "\"\"\", conn)\n",
    "movie_ratings"
   ]
  },
  {
   "cell_type": "code",
   "execution_count": null,
   "metadata": {},
   "outputs": [],
   "source": [
    "persons=pd.read_sql(\n",
    "\"\"\"\n",
    "SELECT *\n",
    "FROM persons\n",
    ";\n",
    "\"\"\", conn)\n",
    "persons = persons[persons['primary_profession'].str.contains('director', na=False)]\n",
    "persons = persons.drop(['birth_year', 'death_year'], axis=1)\n",
    "persons"
   ]
  },
  {
   "cell_type": "code",
   "execution_count": null,
   "metadata": {},
   "outputs": [],
   "source": [
    "principals=pd.read_sql(\n",
    "\"\"\"\n",
    "SELECT *\n",
    "FROM principals\n",
    ";\n",
    "\"\"\", conn)\n",
    "principals"
   ]
  },
  {
   "cell_type": "code",
   "execution_count": null,
   "metadata": {},
   "outputs": [],
   "source": [
    "writers=pd.read_sql(\n",
    "\"\"\"\n",
    "SELECT *\n",
    "FROM writers\n",
    ";\n",
    "\"\"\", conn)\n",
    "writers"
   ]
  },
  {
   "cell_type": "code",
   "execution_count": null,
   "metadata": {},
   "outputs": [],
   "source": [
    "runtime=pd.read_sql(\"\"\"SELECT movie_id, primary_title, runtime_minutes\n",
    "FROM movie_basics\n",
    ";\n",
    "\"\"\", conn)\n",
    "runtime = runtime.rename(columns={'primary_title': 'movie'})\n",
    "runtime"
   ]
  },
  {
   "cell_type": "code",
   "execution_count": null,
   "metadata": {},
   "outputs": [],
   "source": [
    "Directors1 = persons.merge(known_for, on='person_id')\n",
    "Directors1"
   ]
  },
  {
   "cell_type": "code",
   "execution_count": null,
   "metadata": {},
   "outputs": [],
   "source": [
    "Directors = Directors1.merge(movie_basics, on='movie_id')\n",
    "Directors['movie'] = Directors['movie'].str.lower()\n",
    "Directors"
   ]
  },
  {
   "cell_type": "code",
   "execution_count": null,
   "metadata": {},
   "outputs": [],
   "source": []
  },
  {
   "cell_type": "code",
   "execution_count": null,
   "metadata": {},
   "outputs": [],
   "source": [
    "movie_gross = pd.read_csv('zippedData/bom.movie_gross.csv.gz')\n",
    "movie_info = pd.read_table('zippedData/rt.movie_info.tsv.gz')\n",
    "rt_reviews = pd.read_table('zippedData/rt.reviews.tsv.gz', encoding='unicode_escape')\n",
    "tmdb_movies = pd.read_csv('zippedData/tmdb.movies.csv.gz')\n",
    "movie_budgets = pd.read_csv('zippedData/tn.movie_budgets.csv.gz')"
   ]
  },
  {
   "cell_type": "code",
   "execution_count": null,
   "metadata": {},
   "outputs": [],
   "source": [
    "with gzip.open('zippedData/bom.movie_gross.csv.gz', 'rb') as f:\n",
    "    movie_gross = pd.read_csv(f)\n",
    "for col in movie_gross.select_dtypes(include=['object']):\n",
    "    movie_gross[col] = movie_gross[col].str.lower()\n",
    "\n",
    "movie_gross = movie_gross.rename(columns={'title': 'movie'})\n",
    "    \n",
    "movie_grossCLEAN = movie_gross.applymap(lambda x: str(x).replace(',', '').replace('$', ''))\n",
    "movie_grossCLEAN"
   ]
  },
  {
   "cell_type": "code",
   "execution_count": null,
   "metadata": {},
   "outputs": [],
   "source": [
    "with gzip.open('zippedData/rt.movie_info.tsv.gz', 'rb') as f:\n",
    "    movie_info = pd.read_csv(f, delimiter='\\t', encoding='unicode_escape')\n",
    "for col in movie_info.select_dtypes(include=['object']):\n",
    "    movie_info[col] = movie_info[col].str.lower()\n",
    "    \n",
    "movie_infoCLEAN = movie_info.applymap(lambda x: str(x).replace(',', '').replace('$', ''))\n",
    "movie_infoCLEAN"
   ]
  },
  {
   "cell_type": "code",
   "execution_count": null,
   "metadata": {},
   "outputs": [],
   "source": [
    "with gzip.open('zippedData/rt.reviews.tsv.gz', 'rb') as f:\n",
    "    rt_reviews = pd.read_csv(f, delimiter='\\t', encoding='unicode_escape')\n",
    "for col in rt_reviews.select_dtypes(include=['object']):\n",
    "    rt_reviews[col] = rt_reviews[col].str.lower()\n",
    "    rt_reviewsCLEAN = rt_reviews.applymap(lambda x: str(x).replace(',', '').replace('$', ''))\n",
    "rt_reviewsCLEAN"
   ]
  },
  {
   "cell_type": "code",
   "execution_count": null,
   "metadata": {},
   "outputs": [],
   "source": [
    "with gzip.open('zippedData/tmdb.movies.csv.gz', 'rb') as f:\n",
    "    tmdb_movies = pd.read_csv(f)\n",
    "\n",
    "for col in tmdb_movies.select_dtypes(include=['object']):\n",
    "    tmdb_movies[col] = tmdb_movies[col].str.lower()\n",
    "\n",
    "tmdb_movies = tmdb_movies.rename(columns={'original_title': 'movie'})\n",
    "tmdb_movies['genre_ids'] = tmdb_movies['genre_ids'].str.replace('[', '').str.replace(']', '')\n",
    "\n",
    "tmdb_moviesCLEAN = tmdb_movies.applymap(lambda x: str(x).replace(',', '').replace('$', ''))\n",
    "\n",
    "# Define a dictionary to map genre ID numbers to genre names\n",
    "genre_id_mapping = {\n",
    "    '28': 'action',\n",
    "    '12': 'adventure',\n",
    "    '16': 'animation',\n",
    "    '35': 'comedy',\n",
    "    '80': 'crime',\n",
    "    '99': 'documentary',\n",
    "    '18': 'drama',\n",
    "    '10751': 'family',\n",
    "    '14': 'fantasy',\n",
    "    '36': 'history',\n",
    "    '27': 'horror',\n",
    "    '10402': 'music',\n",
    "    '9648': 'mystery',\n",
    "    '878': 'science fiction',\n",
    "    '10770': 'tv movie',\n",
    "    '53': 'thriller',\n",
    "    '10752': 'war',\n",
    "    '37': 'western'\n",
    "}\n",
    "\n",
    "# Replace genre ID numbers with genre names in the 'genre_ids' column\n",
    "for genre_id, genre_name in genre_id_mapping.items():\n",
    "    tmdb_moviesCLEAN['genre_ids'] = tmdb_moviesCLEAN['genre_ids'].str.replace(genre_id, genre_name)\n",
    "tmdb_moviesCLEAN.rename(columns={'movieNAME': 'movie'}, inplace=True)\n",
    "tmdb_moviesCLEAN"
   ]
  },
  {
   "cell_type": "code",
   "execution_count": null,
   "metadata": {},
   "outputs": [],
   "source": [
    "with gzip.open('zippedData/tn.movie_budgets.csv.gz', 'rb') as f:\n",
    "    movie_budgets = pd.read_csv(f)\n",
    "# lowercase all strings\n",
    "for col in movie_budgets.select_dtypes(include=['object']):\n",
    "    movie_budgets[col] = movie_budgets[col].str.lower()\n",
    "# remove all ',' and '$' delimiters \n",
    "    movie_budgetsCLEAN = movie_budgets.applymap(lambda x: str(x).replace(',', '').replace('$', ''))\n",
    "movie_budgetsCLEAN"
   ]
  },
  {
   "cell_type": "code",
   "execution_count": null,
   "metadata": {},
   "outputs": [],
   "source": [
    "GENRES7 = tmdb_moviesCLEAN[['movie', 'genre_ids']].copy()\n",
    "genre_id_mapping8 = {\n",
    "    '28': 'action',\n",
    "    '12': 'adventure',\n",
    "    '16': 'animation',\n",
    "    '35': 'comedy',\n",
    "    '80': 'crime',\n",
    "    '99': 'documentary',\n",
    "    '18': 'drama',\n",
    "    '10751': 'family',\n",
    "    '14': 'fantasy',\n",
    "    '36': 'history',\n",
    "    '27': 'horror',\n",
    "    '10402': 'music',\n",
    "    '9648': 'mystery',\n",
    "    '878': 'science fiction',\n",
    "    '10770': 'tv movie',\n",
    "    '53': 'thriller',\n",
    "    '10752': 'war',\n",
    "    '37': 'western'\n",
    "}\n",
    "\n",
    "# Split the genre_ids column into a list of strings\n",
    "GENRES7['genre_ids'] = GENRES7['genre_ids'].str.split('|')\n",
    "\n",
    "# Add a new column for each genre in the mapping\n",
    "for genre_id, genre_name in genre_id_mapping.items():\n",
    "    GENRES7[genre_name] = GENRES7['genre_ids'].apply(lambda x: genre_id in x).astype(int)\n",
    "GENRES7['genre_ids'] = GENRES7['genre_ids'].astype(str).str.replace('[','').str.replace(']','').str.replace(' ','|').str.replace(\"'\", \"\").str.replace(\",\", \"\")\n",
    "GENRES7['genre_ids'] = GENRES7['genre_ids'].str.split('|')\n",
    "genre_order = ['action', 'adventure', 'animation', 'comedy', 'crime', 'documentary', 'drama', 'family', 'fantasy', 'history', 'horror', 'music', 'mystery', 'science fiction', 'tv movie', 'thriller', 'war', 'western']\n",
    "\n",
    "# Create a dictionary to map genre names to integer values\n",
    "genre_int_mapping = {genre_name: index+1 for index, genre_name in enumerate(genre_order)}\n",
    "\n",
    "# Iterate over the genre columns and assign integer values based on the substring in the genre_ids column\n",
    "for genre_name in genre_order:\n",
    "    GENRES7[genre_name] = 0\n",
    "\n",
    "for index, row in GENRES7.iterrows():\n",
    "    genre_list = row['genre_ids']\n",
    "    for genre in genre_list:\n",
    "        if genre in genre_int_mapping:\n",
    "            genre_int = genre_int_mapping[genre]\n",
    "            genre_name = genre_order[genre_int-1]\n",
    "            GENRES7.at[index, genre_name] = genre_int\n",
    "GENRES7"
   ]
  },
  {
   "cell_type": "code",
   "execution_count": null,
   "metadata": {},
   "outputs": [],
   "source": [
    "GENRES7"
   ]
  },
  {
   "cell_type": "code",
   "execution_count": null,
   "metadata": {},
   "outputs": [],
   "source": []
  },
  {
   "cell_type": "markdown",
   "metadata": {},
   "source": [
    "# DIRECTORS"
   ]
  },
  {
   "cell_type": "code",
   "execution_count": null,
   "metadata": {},
   "outputs": [],
   "source": [
    "directors_budget = Directors.merge(movie_budgetsCLEAN, on='movie')\n",
    "directors_budget = directors_budget.rename(columns={'primary_name': 'director'})\n",
    "directors_budget['director'] = directors_budget['director'].str.lower()\n",
    "directors_budget"
   ]
  },
  {
   "cell_type": "code",
   "execution_count": null,
   "metadata": {},
   "outputs": [],
   "source": [
    "directors_budget77 = directors_budget.drop_duplicates(subset='movie')\n",
    "directors_budget77"
   ]
  },
  {
   "cell_type": "code",
   "execution_count": null,
   "metadata": {},
   "outputs": [],
   "source": [
    "directors_budget22 = Directors.merge(tmdb_moviesCLEAN, on='movie')\n",
    "directors_budget22 = directors_budget22.rename(columns={'primary_name': 'director'})\n",
    "directors_budget22['director'] = directors_budget22['director'].str.lower()\n",
    "directors_budget22"
   ]
  },
  {
   "cell_type": "code",
   "execution_count": null,
   "metadata": {},
   "outputs": [],
   "source": [
    "directors_budget22['runtime_minutes'] = pd.to_numeric(directors_budget22['runtime_minutes'], errors='coerce')\n",
    "directors_budget22['popularity'] = pd.to_numeric(directors_budget22['popularity'], errors='coerce')\n",
    "\n",
    "correlation = directors_budget22['runtime_minutes'].corr(directors_budget22['popularity'], method='pearson')\n",
    "print(\"Correlation between movie runtime and total sales:\", correlation)\n",
    "directors_budget22 = directors_budget22.drop(directors_budget22[directors_budget22['runtime_minutes'] > 500.0].index)\n"
   ]
  },
  {
   "cell_type": "code",
   "execution_count": null,
   "metadata": {},
   "outputs": [],
   "source": [
    "import matplotlib.pyplot as plt\n",
    "\n",
    "plt.figure(figsize=(18, 20))  # Set the figure size (width, height) in inches\n",
    "plt.scatter(directors_budget22['runtime_minutes'], directors_budget22['popularity'])\n",
    "plt.xlabel('Movie Runtime (minutes)')\n",
    "plt.ylabel('Movie Popularity')\n",
    "plt.title('Trend in Movie Runtime with Movie Popularity')\n",
    "plt.show()"
   ]
  },
  {
   "cell_type": "code",
   "execution_count": null,
   "metadata": {},
   "outputs": [],
   "source": []
  },
  {
   "cell_type": "code",
   "execution_count": null,
   "metadata": {},
   "outputs": [],
   "source": []
  },
  {
   "cell_type": "code",
   "execution_count": null,
   "metadata": {},
   "outputs": [],
   "source": []
  },
  {
   "cell_type": "code",
   "execution_count": null,
   "metadata": {},
   "outputs": [],
   "source": [
    "director_rating = directors_budget22.merge(movie_infoCLEAN, on='director')\n",
    "director_rating.columns"
   ]
  },
  {
   "cell_type": "code",
   "execution_count": null,
   "metadata": {},
   "outputs": [],
   "source": [
    "director_rating"
   ]
  },
  {
   "cell_type": "code",
   "execution_count": null,
   "metadata": {},
   "outputs": [],
   "source": [
    "dir_pop = director_rating[['director', 'popularity']].copy()\n",
    "dir_pop"
   ]
  },
  {
   "cell_type": "code",
   "execution_count": null,
   "metadata": {},
   "outputs": [],
   "source": []
  },
  {
   "cell_type": "code",
   "execution_count": null,
   "metadata": {},
   "outputs": [],
   "source": []
  },
  {
   "cell_type": "code",
   "execution_count": null,
   "metadata": {},
   "outputs": [],
   "source": []
  },
  {
   "cell_type": "code",
   "execution_count": null,
   "metadata": {},
   "outputs": [],
   "source": [
    "dir_ROI = directors_budget[['director', 'production_budget', 'worldwide_gross']]\n",
    "dir_ROI"
   ]
  },
  {
   "cell_type": "code",
   "execution_count": null,
   "metadata": {},
   "outputs": [],
   "source": [
    "clean_df = dir_ROI.groupby('director').agg({'production_budget': 'sum', 'worldwide_gross': 'sum'}).reset_index()\n",
    "clean_df"
   ]
  },
  {
   "cell_type": "markdown",
   "metadata": {},
   "source": [
    "# HORROR"
   ]
  },
  {
   "cell_type": "code",
   "execution_count": null,
   "metadata": {},
   "outputs": [],
   "source": [
    "horror_cost = Horror_df.merge(movie_budgetsCLEAN[['movie', 'production_budget']], on='movie', how='inner')\n",
    "horror_cost['production_budget'] = horror_cost['production_budget'].astype(int)\n",
    "horror_cost = horror_cost[horror_cost['production_budget'] >= 20000]\n",
    "horror_cost"
   ]
  },
  {
   "cell_type": "code",
   "execution_count": null,
   "metadata": {},
   "outputs": [],
   "source": [
    "horror_cost_mean = horror_cost['production_budget'].mean()\n",
    "horror_cost_mean"
   ]
  },
  {
   "cell_type": "code",
   "execution_count": null,
   "metadata": {},
   "outputs": [],
   "source": [
    "horror_gain = Horror_df.merge(movie_budgetsCLEAN[['movie', 'worldwide_gross']], on='movie', how='inner')\n",
    "horror_gain['worldwide_gross'] = horror_gain['worldwide_gross'].astype('int64')\n",
    "horror_gain"
   ]
  },
  {
   "cell_type": "code",
   "execution_count": null,
   "metadata": {},
   "outputs": [],
   "source": [
    "horror_gain_mean= horror_gain['worldwide_gross'].mean()\n",
    "horror_gain_mean"
   ]
  },
  {
   "cell_type": "code",
   "execution_count": null,
   "metadata": {},
   "outputs": [],
   "source": [
    "horror_roi = ((horror_gain_mean - horror_cost_mean) / horror_cost_mean) * 100\n",
    "horror_roi"
   ]
  },
  {
   "cell_type": "code",
   "execution_count": null,
   "metadata": {},
   "outputs": [],
   "source": [
    "horror_data = {'Genre': ['Documentary'],\n",
    "        'Cost Mean': [horror_cost_mean],\n",
    "        'Gain Mean': [horror_gain_mean],}\n",
    "horror_data"
   ]
  },
  {
   "cell_type": "code",
   "execution_count": null,
   "metadata": {},
   "outputs": [],
   "source": [
    "horror_data = pd.DataFrame({'Category': ['Cost Mean', 'Gain Mean'], 'Value': [horror_cost_mean, horror_gain_mean]})\n",
    "\n",
    "# Plotting the DataFrame\n",
    "plt.figure(figsize=(10, 6))\n",
    "plt.bar(horror_data['Category'], horror_data['Value'])\n",
    "plt.xlabel('Category')\n",
    "plt.ylabel('Value')\n",
    "plt.title('horror Genre Statistics')\n",
    "plt.show()"
   ]
  },
  {
   "cell_type": "markdown",
   "metadata": {},
   "source": [
    "# DOCUMENTARY"
   ]
  },
  {
   "cell_type": "code",
   "execution_count": null,
   "metadata": {},
   "outputs": [],
   "source": [
    "Documentary_cost = Documentary_df.merge(movie_budgetsCLEAN[['movie', 'production_budget']], on='movie', how='inner')\n",
    "Documentary_cost['production_budget'] = Documentary_cost['production_budget'].astype(int)\n",
    "Documentary_cost"
   ]
  },
  {
   "cell_type": "code",
   "execution_count": null,
   "metadata": {},
   "outputs": [],
   "source": [
    "Documentary_cost_mean = Documentary_cost['production_budget'].mean()\n",
    "Documentary_cost_mean"
   ]
  },
  {
   "cell_type": "code",
   "execution_count": null,
   "metadata": {},
   "outputs": [],
   "source": [
    "Documentary_gain = Documentary_df.merge(movie_budgetsCLEAN[['movie', 'worldwide_gross']], on='movie', how='inner')\n",
    "Documentary_gain['worldwide_gross'] = Documentary_gain['worldwide_gross'].astype('int64')\n",
    "Documentary_gain"
   ]
  },
  {
   "cell_type": "code",
   "execution_count": null,
   "metadata": {},
   "outputs": [],
   "source": [
    "Documentary_gain_mean= Documentary_gain['worldwide_gross'].mean()\n",
    "Documentary_gain_mean"
   ]
  },
  {
   "cell_type": "code",
   "execution_count": null,
   "metadata": {},
   "outputs": [],
   "source": [
    "Documentary_roi = ((Documentary_gain_mean - Documentary_cost_mean) / Documentary_cost_mean) * 100\n",
    "Documentary_roi"
   ]
  },
  {
   "cell_type": "code",
   "execution_count": null,
   "metadata": {},
   "outputs": [],
   "source": [
    "Documentary_data = {'Genre': ['Documentary'],\n",
    "        'Cost Mean': [Documentary_cost_mean],\n",
    "        'Gain Mean': [Documentary_gain_mean],}\n",
    "Documentary_data"
   ]
  },
  {
   "cell_type": "code",
   "execution_count": null,
   "metadata": {},
   "outputs": [],
   "source": [
    "Documentary_data = pd.DataFrame({'Category': ['Cost Mean', 'Gain Mean'], 'Value': [Documentary_cost_mean, Documentary_gain_mean]})\n",
    "\n",
    "# Plotting the DataFrame\n",
    "plt.figure(figsize=(10, 6))\n",
    "plt.bar(Documentary_data['Category'], Documentary_data['Value'])\n",
    "plt.xlabel('Category')\n",
    "plt.ylabel('Value')\n",
    "plt.title('Documentary Genre Statistics')\n",
    "plt.show()"
   ]
  },
  {
   "cell_type": "markdown",
   "metadata": {},
   "source": [
    "# DRAMA"
   ]
  },
  {
   "cell_type": "code",
   "execution_count": null,
   "metadata": {},
   "outputs": [],
   "source": [
    "Drama_cost = Drama_df.merge(movie_budgetsCLEAN[['movie', 'production_budget']], on='movie', how='inner')\n",
    "Drama_cost['production_budget'] = Drama_cost['production_budget'].astype(int)\n",
    "Drama_cost"
   ]
  },
  {
   "cell_type": "code",
   "execution_count": null,
   "metadata": {},
   "outputs": [],
   "source": [
    "Drama_cost_mean = Drama_cost['production_budget'].mean()\n",
    "Drama_cost_mean"
   ]
  },
  {
   "cell_type": "code",
   "execution_count": null,
   "metadata": {},
   "outputs": [],
   "source": [
    "Drama_gain = Drama_df.merge(movie_budgetsCLEAN[['movie', 'worldwide_gross']], on='movie', how='inner')\n",
    "Drama_gain['worldwide_gross'] = Drama_gain['worldwide_gross'].astype('int64')\n",
    "Drama_gain"
   ]
  },
  {
   "cell_type": "code",
   "execution_count": null,
   "metadata": {},
   "outputs": [],
   "source": [
    "Drama_gain_mean= Drama_gain['worldwide_gross'].mean()\n",
    "Drama_gain_mean"
   ]
  },
  {
   "cell_type": "code",
   "execution_count": null,
   "metadata": {},
   "outputs": [],
   "source": [
    "Drama_roi = ((Drama_gain_mean - Drama_cost_mean) / Drama_cost_mean) * 100\n",
    "Drama_roi"
   ]
  },
  {
   "cell_type": "code",
   "execution_count": null,
   "metadata": {},
   "outputs": [],
   "source": [
    "Drama_data = {'Genre': ['Drama'],\n",
    "        'Cost Mean': [Drama_cost_mean],\n",
    "        'Gain Mean': [Drama_gain_mean],}\n",
    "\n",
    "Drama_data"
   ]
  },
  {
   "cell_type": "code",
   "execution_count": null,
   "metadata": {},
   "outputs": [],
   "source": [
    "Drama_data = pd.DataFrame({'Category': ['Cost Mean', 'Gain Mean'], 'Value': [Drama_cost_mean, Drama_gain_mean]})\n",
    "\n",
    "# Plotting the DataFrame\n",
    "plt.figure(figsize=(10, 6))\n",
    "plt.bar(Drama_data['Category'], Drama_data['Value'])\n",
    "plt.xlabel('Category')\n",
    "plt.ylabel('Value')\n",
    "plt.title('Drama Genre Statistics')\n",
    "plt.show()"
   ]
  },
  {
   "cell_type": "code",
   "execution_count": null,
   "metadata": {},
   "outputs": [],
   "source": [
    "def genre_stats(genre_df, budget_df):\n",
    "    genre_cost = genre_df.merge(budget_df[['movie', 'production_budget']], on='movie', how='inner')\n",
    "    genre_cost['production_budget'] = genre_cost['production_budget'].astype(int)\n",
    "    genre_cost_mean = genre_cost['production_budget'].mean()\n",
    "    genre_gain = genre_df.merge(budget_df[['movie', 'worldwide_gross']], on='movie', how='inner')\n",
    "    genre_gain['worldwide_gross'] = genre_gain['worldwide_gross'].astype('int64')\n",
    "    genre_gain_mean = genre_gain['worldwide_gross'].mean()\n",
    "    genre_roi = ((genre_gain_mean - genre_cost_mean) / genre_cost_mean) * 100\n",
    "    return genre_cost_mean, genre_gain_mean, genre_roi\n",
    "horror_cost_mean, horror_gain_mean, horror_roi = genre_stats(Horror_df, movie_budgetsCLEAN)\n",
    "documentary_cost_mean, documentary_gain_mean, documentary_roi = genre_stats(Documentary_df, movie_budgetsCLEAN)\n",
    "drama_cost_mean, drama_gain_mean, drama_roi = genre_stats(Drama_df, movie_budgetsCLEAN)"
   ]
  },
  {
   "cell_type": "code",
   "execution_count": null,
   "metadata": {},
   "outputs": [],
   "source": [
    "def genre_stats(genre_df, budget_df):\n",
    "    genre_cost = genre_df.merge(budget_df[['movie', 'production_budget']], on='movie', how='inner')\n",
    "    genre_cost['production_budget'] = genre_cost['production_budget'].astype(int)\n",
    "    genre_cost_mean = genre_cost['production_budget'].mean()\n",
    "    genre_gain = genre_df.merge(budget_df[['movie', 'worldwide_gross']], on='movie', how='inner')\n",
    "    genre_gain['worldwide_gross'] = genre_gain['worldwide_gross'].astype('int64')\n",
    "    genre_gain_mean = genre_gain['worldwide_gross'].mean()\n",
    "    genre_roi = ((genre_gain_mean - genre_cost_mean) / genre_cost_mean) * 100\n",
    "    return genre_cost_mean, genre_gain_mean, genre_roi\n",
    "horror_cost_mean, horror_gain_mean, horror_roi = genre_stats(Horror_df, movie_budgetsCLEAN)\n",
    "documentary_cost_mean, documentary_gain_mean, documentary_roi = genre_stats(Documentary_df, movie_budgetsCLEAN)\n",
    "drama_cost_mean, drama_gain_mean, drama_roi = genre_stats(Drama_df, movie_budgetsCLEAN)"
   ]
  },
  {
   "cell_type": "code",
   "execution_count": null,
   "metadata": {},
   "outputs": [],
   "source": []
  },
  {
   "cell_type": "code",
   "execution_count": null,
   "metadata": {},
   "outputs": [],
   "source": [
    "def remove_punctuation(text):\n",
    "    return text.str.replace('[{}]'.format(string.punctuation), '')\n",
    "\n",
    "# Apply the function to the column\n",
    "tmdb_moviesCLEAN['movie'] = remove_punctuation(tmdb_moviesCLEAN['movie'])\n",
    "\n",
    "# Print the updated DataFrame\n",
    "tmdb_moviesCLEAN"
   ]
  },
  {
   "cell_type": "code",
   "execution_count": null,
   "metadata": {},
   "outputs": [],
   "source": [
    "tmdb_moviesCLEAN['Twords'] = tmdb_moviesCLEAN['movie'].str.count(' ')\n",
    "tmdb_moviesCLEAN"
   ]
  },
  {
   "cell_type": "code",
   "execution_count": null,
   "metadata": {},
   "outputs": [],
   "source": [
    "Extract = ['popularity', 'Twords']\n",
    "Words_per_pop = tmdb_moviesCLEAN[Extract]\n",
    "#add 1, because we counted by spaces, not words\n",
    "Words_per_pop['Twords'] += 1\n",
    "Words_per_pop['popularity'] = Words_per_pop['popularity'].astype(float)\n",
    "Words_per_pop"
   ]
  },
  {
   "cell_type": "code",
   "execution_count": null,
   "metadata": {},
   "outputs": [],
   "source": [
    "df_new = Words_per_pop.groupby('Twords')['popularity'].mean().reset_index()\n",
    "\n",
    "# Transpose the DataFrame to have 'Twords' as columns\n",
    "df_new = df_new.set_index('Twords').T\n",
    "df_new = df_new.drop(columns=df_new.columns[df_new.columns.astype(int) > 10])\n",
    "print(df_new)"
   ]
  },
  {
   "cell_type": "code",
   "execution_count": null,
   "metadata": {},
   "outputs": [],
   "source": [
    "# Plot the bar graph\n",
    "df_new.plot(kind='bar')\n",
    "\n",
    "# Set the x-axis label\n",
    "plt.xlabel('Word Count')\n",
    "plt.xticks(rotation=15)\n",
    "\n",
    "# Set the y-axis label\n",
    "plt.ylabel('Popularity')\n",
    "\n",
    "# Set the title\n",
    "plt.title('Total Words in Title')\n",
    "\n",
    "# Show the bar graph\n",
    "plt.show()"
   ]
  },
  {
   "cell_type": "code",
   "execution_count": null,
   "metadata": {},
   "outputs": [],
   "source": []
  },
  {
   "cell_type": "code",
   "execution_count": null,
   "metadata": {},
   "outputs": [],
   "source": []
  },
  {
   "cell_type": "code",
   "execution_count": null,
   "metadata": {},
   "outputs": [],
   "source": []
  },
  {
   "cell_type": "code",
   "execution_count": null,
   "metadata": {},
   "outputs": [],
   "source": []
  },
  {
   "cell_type": "code",
   "execution_count": null,
   "metadata": {},
   "outputs": [],
   "source": []
  }
 ],
 "metadata": {
  "kernelspec": {
   "display_name": "Python (learn-env)",
   "language": "python",
   "name": "learn-env"
  },
  "language_info": {
   "codemirror_mode": {
    "name": "ipython",
    "version": 3
   },
   "file_extension": ".py",
   "mimetype": "text/x-python",
   "name": "python",
   "nbconvert_exporter": "python",
   "pygments_lexer": "ipython3",
   "version": "3.8.5"
  }
 },
 "nbformat": 4,
 "nbformat_minor": 4
}
